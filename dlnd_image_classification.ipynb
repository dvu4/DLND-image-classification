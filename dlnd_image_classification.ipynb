{
 "cells": [
  {
   "cell_type": "markdown",
   "metadata": {
    "collapsed": true,
    "deletable": true,
    "editable": true
   },
   "source": [
    "# Image Classification\n",
    "In this project, you'll classify images from the [CIFAR-10 dataset](https://www.cs.toronto.edu/~kriz/cifar.html).  The dataset consists of airplanes, dogs, cats, and other objects. You'll preprocess the images, then train a convolutional neural network on all the samples. The images need to be normalized and the labels need to be one-hot encoded.  You'll get to apply what you learned and build a convolutional, max pooling, dropout, and fully connected layers.  At the end, you'll get to see your neural network's predictions on the sample images.\n",
    "## Get the Data\n",
    "Run the following cell to download the [CIFAR-10 dataset for python](https://www.cs.toronto.edu/~kriz/cifar-10-python.tar.gz)."
   ]
  },
  {
   "cell_type": "code",
   "execution_count": 1,
   "metadata": {
    "collapsed": false,
    "deletable": true,
    "editable": true
   },
   "outputs": [
    {
     "name": "stdout",
     "output_type": "stream",
     "text": [
      "All files found!\n"
     ]
    }
   ],
   "source": [
    "\"\"\"\n",
    "DON'T MODIFY ANYTHING IN THIS CELL THAT IS BELOW THIS LINE\n",
    "\"\"\"\n",
    "from urllib.request import urlretrieve\n",
    "from os.path import isfile, isdir\n",
    "from tqdm import tqdm\n",
    "import problem_unittests as tests\n",
    "import tarfile\n",
    "\n",
    "cifar10_dataset_folder_path = 'cifar-10-batches-py'\n",
    "\n",
    "# Use Floyd's cifar-10 dataset if present\n",
    "floyd_cifar10_location = '/input/cifar-10/python.tar.gz'\n",
    "if isfile(floyd_cifar10_location):\n",
    "    tar_gz_path = floyd_cifar10_location\n",
    "else:\n",
    "    tar_gz_path = 'cifar-10-python.tar.gz'\n",
    "\n",
    "class DLProgress(tqdm):\n",
    "    last_block = 0\n",
    "\n",
    "    def hook(self, block_num=1, block_size=1, total_size=None):\n",
    "        self.total = total_size\n",
    "        self.update((block_num - self.last_block) * block_size)\n",
    "        self.last_block = block_num\n",
    "\n",
    "if not isfile(tar_gz_path):\n",
    "    with DLProgress(unit='B', unit_scale=True, miniters=1, desc='CIFAR-10 Dataset') as pbar:\n",
    "        urlretrieve(\n",
    "            'https://www.cs.toronto.edu/~kriz/cifar-10-python.tar.gz',\n",
    "            tar_gz_path,\n",
    "            pbar.hook)\n",
    "\n",
    "if not isdir(cifar10_dataset_folder_path):\n",
    "    with tarfile.open(tar_gz_path) as tar:\n",
    "        tar.extractall()\n",
    "        tar.close()\n",
    "\n",
    "\n",
    "tests.test_folder_path(cifar10_dataset_folder_path)"
   ]
  },
  {
   "cell_type": "markdown",
   "metadata": {
    "deletable": true,
    "editable": true
   },
   "source": [
    "## Explore the Data\n",
    "The dataset is broken into batches to prevent your machine from running out of memory.  The CIFAR-10 dataset consists of 5 batches, named `data_batch_1`, `data_batch_2`, etc.. Each batch contains the labels and images that are one of the following:\n",
    "* airplane\n",
    "* automobile\n",
    "* bird\n",
    "* cat\n",
    "* deer\n",
    "* dog\n",
    "* frog\n",
    "* horse\n",
    "* ship\n",
    "* truck\n",
    "\n",
    "Understanding a dataset is part of making predictions on the data.  Play around with the code cell below by changing the `batch_id` and `sample_id`. The `batch_id` is the id for a batch (1-5). The `sample_id` is the id for a image and label pair in the batch.\n",
    "\n",
    "Ask yourself \"What are all possible labels?\", \"What is the range of values for the image data?\", \"Are the labels in order or random?\".  Answers to questions like these will help you preprocess the data and end up with better predictions."
   ]
  },
  {
   "cell_type": "code",
   "execution_count": 74,
   "metadata": {
    "collapsed": false,
    "deletable": true,
    "editable": true
   },
   "outputs": [
    {
     "name": "stdout",
     "output_type": "stream",
     "text": [
      "\n",
      "Stats of batch 1:\n",
      "Samples: 10000\n",
      "Label Counts: {0: 1005, 1: 974, 2: 1032, 3: 1016, 4: 999, 5: 937, 6: 1030, 7: 1001, 8: 1025, 9: 981}\n",
      "First 20 Labels: [6, 9, 9, 4, 1, 1, 2, 7, 8, 3, 4, 7, 7, 2, 9, 9, 9, 3, 2, 6]\n",
      "\n",
      "Example of Image 7:\n",
      "Image - Min Value: 9 Max Value: 248\n",
      "Image - Shape: (32, 32, 3)\n",
      "Label - Label Id: 7 Name: horse\n"
     ]
    },
    {
     "data": {
      "image/png": "[encoded data removed]",
      "text/plain": [
       "<matplotlib.figure.Figure at 0x7f44e67735c0>"
      ]
     },
     "metadata": {
      "image/png": {
       "height": 250,
       "width": 253
      }
     },
     "output_type": "display_data"
    }
   ],
   "source": [
    "%matplotlib inline\n",
    "%config InlineBackend.figure_format = 'retina'\n",
    "\n",
    "import helper\n",
    "import numpy as np\n",
    "\n",
    "# Explore the dataset\n",
    "batch_id = 1\n",
    "sample_id = 7\n",
    "helper.display_stats(cifar10_dataset_folder_path, batch_id, sample_id)"
   ]
  },
  {
   "cell_type": "markdown",
   "metadata": {
    "deletable": true,
    "editable": true
   },
   "source": [
    "## Implement Preprocess Functions\n",
    "### Normalize\n",
    "In the cell below, implement the `normalize` function to take in image data, `x`, and return it as a normalized Numpy array. The values should be in the range of 0 to 1, inclusive.  The return object should be the same shape as `x`."
   ]
  },
  {
   "cell_type": "code",
   "execution_count": 75,
   "metadata": {
    "collapsed": false,
    "deletable": true,
    "editable": true
   },
   "outputs": [
    {
     "name": "stdout",
     "output_type": "stream",
     "text": [
      "Tests Passed\n"
     ]
    }
   ],
   "source": [
    "def normalize(x):\n",
    "    \"\"\"\n",
    "    Normalize a list of sample image data in the range of 0 to 1\n",
    "    : x: List of image data.  The image shape is (32, 32, 3)\n",
    "    : return: Numpy array of normalize data\n",
    "    \"\"\"\n",
    "    # TODO: Implement Function\n",
    "    return 1.0 * ((x - np.min(x)) / (np.max(x) - np.min(x)))\n",
    "    #return None\n",
    "\n",
    "\n",
    "\"\"\"\n",
    "DON'T MODIFY ANYTHING IN THIS CELL THAT IS BELOW THIS LINE\n",
    "\"\"\"\n",
    "tests.test_normalize(normalize)"
   ]
  },
  {
   "cell_type": "markdown",
   "metadata": {
    "deletable": true,
    "editable": true
   },
   "source": [
    "### One-hot encode\n",
    "Just like the previous code cell, you'll be implementing a function for preprocessing.  This time, you'll implement the `one_hot_encode` function. The input, `x`, are a list of labels.  Implement the function to return the list of labels as One-Hot encoded Numpy array.  The possible values for labels are 0 to 9. The one-hot encoding function should return the same encoding for each value between each call to `one_hot_encode`.  Make sure to save the map of encodings outside the function.\n",
    "\n",
    "Hint: Don't reinvent the wheel."
   ]
  },
  {
   "cell_type": "code",
   "execution_count": 79,
   "metadata": {
    "collapsed": false,
    "deletable": true,
    "editable": true
   },
   "outputs": [
    {
     "name": "stdout",
     "output_type": "stream",
     "text": [
      "Tests Passed\n"
     ]
    }
   ],
   "source": [
    "def one_hot_encode(x):\n",
    "    \"\"\"\n",
    "    One hot encode a list of sample labels. Return a one-hot encoded vector for each label.\n",
    "    : x: List of sample Labels\n",
    "    : return: Numpy array of one-hot encoded labels\n",
    "    \"\"\"\n",
    "    # TODO: Implement Function\n",
    "    nb_classes = 10\n",
    "    one_hot_labels = np.eye(nb_classes)[x]\n",
    "    return one_hot_labels\n",
    "\n",
    "\"\"\"\n",
    "DON'T MODIFY ANYTHING IN THIS CELL THAT IS BELOW THIS LINE\n",
    "\"\"\"\n",
    "tests.test_one_hot_encode(one_hot_encode)"
   ]
  },
  {
   "cell_type": "raw",
   "metadata": {},
   "source": [
    "from sklearn.preprocessing import LabelBinarizer\n",
    "\n",
    "def one_hot_encode(x):\n",
    "    labelBinarizer = LabelBinarizer()\n",
    "    labelBinarizer.fit(x)\n",
    "    one_hot_labels = labelBinarizer.transform(x)\n",
    "    \n",
    "    return one_hot_labels\n",
    "\n",
    "\"\"\"\n",
    "DON'T MODIFY ANYTHING IN THIS CELL THAT IS BELOW THIS LINE\n",
    "\"\"\"\n",
    "tests.test_one_hot_encode(one_hot_encode)"
   ]
  },
  {
   "cell_type": "markdown",
   "metadata": {
    "deletable": true,
    "editable": true
   },
   "source": [
    "### Randomize Data\n",
    "As you saw from exploring the data above, the order of the samples are randomized.  It doesn't hurt to randomize it again, but you don't need to for this dataset."
   ]
  },
  {
   "cell_type": "markdown",
   "metadata": {
    "deletable": true,
    "editable": true
   },
   "source": [
    "## Preprocess all the data and save it\n",
    "Running the code cell below will preprocess all the CIFAR-10 data and save it to file. The code below also uses 10% of the training data for validation."
   ]
  },
  {
   "cell_type": "code",
   "execution_count": 81,
   "metadata": {
    "collapsed": false,
    "deletable": true,
    "editable": true
   },
   "outputs": [],
   "source": [
    "\"\"\"\n",
    "DON'T MODIFY ANYTHING IN THIS CELL\n",
    "\"\"\"\n",
    "# Preprocess Training, Validation, and Testing Data\n",
    "helper.preprocess_and_save_data(cifar10_dataset_folder_path, normalize, one_hot_encode)"
   ]
  },
  {
   "cell_type": "markdown",
   "metadata": {
    "deletable": true,
    "editable": true
   },
   "source": [
    "# Check Point\n",
    "This is your first checkpoint.  If you ever decide to come back to this notebook or have to restart the notebook, you can start from here.  The preprocessed data has been saved to disk."
   ]
  },
  {
   "cell_type": "code",
   "execution_count": 82,
   "metadata": {
    "collapsed": true,
    "deletable": true,
    "editable": true
   },
   "outputs": [],
   "source": [
    "\"\"\"\n",
    "DON'T MODIFY ANYTHING IN THIS CELL\n",
    "\"\"\"\n",
    "import pickle\n",
    "import problem_unittests as tests\n",
    "import helper\n",
    "\n",
    "# Load the Preprocessed Validation data\n",
    "valid_features, valid_labels = pickle.load(open('preprocess_validation.p', mode='rb'))"
   ]
  },
  {
   "cell_type": "markdown",
   "metadata": {
    "deletable": true,
    "editable": true
   },
   "source": [
    "## Build the network\n",
    "For the neural network, you'll build each layer into a function.  Most of the code you've seen has been outside of functions. To test your code more thoroughly, we require that you put each layer in a function.  This allows us to give you better feedback and test for simple mistakes using our unittests before you submit your project.\n",
    "\n",
    ">**Note:** If you're finding it hard to dedicate enough time for this course each week, we've provided a small shortcut to this part of the project. In the next couple of problems, you'll have the option to use classes from the [TensorFlow Layers](https://www.tensorflow.org/api_docs/python/tf/layers) or [TensorFlow Layers (contrib)](https://www.tensorflow.org/api_guides/python/contrib.layers) packages to build each layer, except the layers you build in the \"Convolutional and Max Pooling Layer\" section.  TF Layers is similar to Keras's and TFLearn's abstraction to layers, so it's easy to pickup.\n",
    "\n",
    ">However, if you would like to get the most out of this course, try to solve all the problems _without_ using anything from the TF Layers packages. You **can** still use classes from other packages that happen to have the same name as ones you find in TF Layers! For example, instead of using the TF Layers version of the `conv2d` class, [tf.layers.conv2d](https://www.tensorflow.org/api_docs/python/tf/layers/conv2d), you would want to use the TF Neural Network version of `conv2d`, [tf.nn.conv2d](https://www.tensorflow.org/api_docs/python/tf/nn/conv2d). \n",
    "\n",
    "Let's begin!\n",
    "\n",
    "### Input\n",
    "The neural network needs to read the image data, one-hot encoded labels, and dropout keep probability. Implement the following functions\n",
    "* Implement `neural_net_image_input`\n",
    " * Return a [TF Placeholder](https://www.tensorflow.org/api_docs/python/tf/placeholder)\n",
    " * Set the shape using `image_shape` with batch size set to `None`.\n",
    " * Name the TensorFlow placeholder \"x\" using the TensorFlow `name` parameter in the [TF Placeholder](https://www.tensorflow.org/api_docs/python/tf/placeholder).\n",
    "* Implement `neural_net_label_input`\n",
    " * Return a [TF Placeholder](https://www.tensorflow.org/api_docs/python/tf/placeholder)\n",
    " * Set the shape using `n_classes` with batch size set to `None`.\n",
    " * Name the TensorFlow placeholder \"y\" using the TensorFlow `name` parameter in the [TF Placeholder](https://www.tensorflow.org/api_docs/python/tf/placeholder).\n",
    "* Implement `neural_net_keep_prob_input`\n",
    " * Return a [TF Placeholder](https://www.tensorflow.org/api_docs/python/tf/placeholder) for dropout keep probability.\n",
    " * Name the TensorFlow placeholder \"keep_prob\" using the TensorFlow `name` parameter in the [TF Placeholder](https://www.tensorflow.org/api_docs/python/tf/placeholder).\n",
    "\n",
    "These names will be used at the end of the project to load your saved model.\n",
    "\n",
    "Note: `None` for shapes in TensorFlow allow for a dynamic size."
   ]
  },
  {
   "cell_type": "code",
   "execution_count": 83,
   "metadata": {
    "collapsed": false,
    "deletable": true,
    "editable": true
   },
   "outputs": [
    {
     "name": "stdout",
     "output_type": "stream",
     "text": [
      "Image Input Tests Passed.\n",
      "Label Input Tests Passed.\n",
      "Keep Prob Tests Passed.\n"
     ]
    }
   ],
   "source": [
    "import tensorflow as tf\n",
    "\n",
    "def neural_net_image_input(image_shape):\n",
    "    \"\"\"\n",
    "    Return a Tensor for a bach of image input\n",
    "    : image_shape: Shape of the images\n",
    "    : return: Tensor for image input.\n",
    "    \"\"\"\n",
    "    # TODO: Implement Function\n",
    "    return tf.placeholder(tf.float32, shape=[None,image_shape[0],image_shape[1],image_shape[2]], name='x')\n",
    "\n",
    "\n",
    "\n",
    "def neural_net_label_input(n_classes):\n",
    "    \"\"\"\n",
    "    Return a Tensor for a batch of label input\n",
    "    : n_classes: Number of classes\n",
    "    : return: Tensor for label input.\n",
    "    \"\"\"\n",
    "    # TODO: Implement Function\n",
    "    return tf.placeholder(tf.float32, shape=[None, n_classes], name='y')\n",
    "\n",
    "\n",
    "def neural_net_keep_prob_input():\n",
    "    \"\"\"\n",
    "    Return a Tensor for keep probability\n",
    "    : return: Tensor for keep probability.\n",
    "    \"\"\"\n",
    "    # TODO: Implement Function\n",
    "    return tf.placeholder(tf.float32, name='keep_prob')\n",
    "\n",
    "\n",
    "\"\"\"\n",
    "DON'T MODIFY ANYTHING IN THIS CELL THAT IS BELOW THIS LINE\n",
    "\"\"\"\n",
    "tf.reset_default_graph()\n",
    "tests.test_nn_image_inputs(neural_net_image_input)\n",
    "tests.test_nn_label_inputs(neural_net_label_input)\n",
    "tests.test_nn_keep_prob_inputs(neural_net_keep_prob_input)"
   ]
  },
  {
   "cell_type": "markdown",
   "metadata": {
    "deletable": true,
    "editable": true
   },
   "source": [
    "### Convolution and Max Pooling Layer\n",
    "Convolution layers have a lot of success with images. For this code cell, you should implement the function `conv2d_maxpool` to apply convolution then max pooling:\n",
    "* Create the weight and bias using `conv_ksize`, `conv_num_outputs` and the shape of `x_tensor`.\n",
    "* Apply a convolution to `x_tensor` using weight and `conv_strides`.\n",
    " * We recommend you use same padding, but you're welcome to use any padding.\n",
    "* Add bias\n",
    "* Add a nonlinear activation to the convolution.\n",
    "* Apply Max Pooling using `pool_ksize` and `pool_strides`.\n",
    " * We recommend you use same padding, but you're welcome to use any padding.\n",
    "\n",
    "**Note:** You **can't** use [TensorFlow Layers](https://www.tensorflow.org/api_docs/python/tf/layers) or [TensorFlow Layers (contrib)](https://www.tensorflow.org/api_guides/python/contrib.layers) for **this** layer, but you can still use TensorFlow's [Neural Network](https://www.tensorflow.org/api_docs/python/tf/nn) package. You may still use the shortcut option for all the **other** layers."
   ]
  },
  {
   "cell_type": "code",
   "execution_count": 84,
   "metadata": {
    "collapsed": false,
    "deletable": true,
    "editable": true
   },
   "outputs": [
    {
     "name": "stdout",
     "output_type": "stream",
     "text": [
      "Tests Passed\n"
     ]
    }
   ],
   "source": [
    "def conv2d_maxpool(x_tensor, conv_num_outputs, conv_ksize, conv_strides, pool_ksize, pool_strides):\n",
    "    \"\"\"\n",
    "    Apply convolution then max pooling to x_tensor\n",
    "    :param x_tensor: TensorFlow Tensor\n",
    "    :param conv_num_outputs: Number of outputs for the convolutional layer\n",
    "    :param conv_ksize: kernal size 2-D Tuple for the convolutional layer\n",
    "    :param conv_strides: Stride 2-D Tuple for convolution\n",
    "    :param pool_ksize: kernal size 2-D Tuple for pool\n",
    "    :param pool_strides: Stride 2-D Tuple for pool\n",
    "    : return: A tensor that represents convolution and max pooling of x_tensor\n",
    "    \"\"\"\n",
    "    # TODO: Implement Function\n",
    "    \n",
    "    #Step 1: create the weights and bias\n",
    "    shape = (conv_ksize[0], conv_ksize[1], x_tensor.get_shape().as_list()[-1], conv_num_outputs)\n",
    "    \n",
    "    conv_weights = tf.Variable(tf.truncated_normal(shape = shape, mean = 0.0, stddev = 0.1))\n",
    "    conv_bias = tf.Variable(tf.zeros(conv_num_outputs))\n",
    "    \n",
    "    #Step 2: apply convolution\n",
    "    layer = tf.nn.conv2d(x_tensor, conv_weights, \n",
    "                        strides=[1, conv_strides[0], conv_strides[1], 1], \n",
    "                        padding='SAME') \n",
    "    \n",
    "    #Step 3: add bias\n",
    "    layer = tf.nn.bias_add(layer, conv_bias)\n",
    "    \n",
    "    #Step 4: Activation\n",
    "    layer = tf.nn.relu(layer)\n",
    "    \n",
    "    #Step 5: Max Pooling\n",
    "    layer = tf.nn.max_pool(layer, \n",
    "                           ksize=[1, pool_ksize[0], pool_ksize[1], 1], \n",
    "                           strides=[1,pool_strides[0], pool_strides[1], 1], \n",
    "                           padding='SAME')\n",
    "    return layer\n",
    "\n",
    "\n",
    "\"\"\"\n",
    "DON'T MODIFY ANYTHING IN THIS CELL THAT IS BELOW THIS LINE\n",
    "\"\"\"\n",
    "tests.test_con_pool(conv2d_maxpool)"
   ]
  },
  {
   "cell_type": "raw",
   "metadata": {},
   "source": [
    "    '''\n",
    "    #Input = 32x32x3. Output = 28x28x6.\n",
    "    shape = (conv_ksize[0], conv_ksize[1], x_tensor.get_shape().as_list()[-1], conv_num_outputs)\n",
    "    conv1_W = tf.Variable(tf.truncated_normal(shape=(5, 5, 3, 6), mean = 0.0, stddev = 1.0))\n",
    "    conv1_b = tf.Variable(tf.zeros(6))\n",
    "    conv1 = tf.nn.conv2d(x, conv1_W, strides=[1, 1, 1, 1], padding='VALID') + conv1_b\n",
    "    # Activation\n",
    "    conv1 = tf.nn.relu(conv1)\n",
    "    # Pooling. Input = 28x28x6. Output = 14x14x6.\n",
    "    conv1 = tf.nn.max_pool(conv1, ksize=[1, 2, 2, 1], strides=[1, 2, 2, 1], padding='VALID')\n",
    "\n",
    "    \n",
    "def conv2d(X, W, b, stride=1):\n",
    "    X = tf.nn.conv2d(X, W, strides=[1, stride, stride, 1], padding='SAME')\n",
    "    X = tf.nn.bias_add(X, b)\n",
    "    X = tf.nn.relu(X)\n",
    "    X = tf.nn.max_pool( X, ksize=[1, k, k, 1], strides=[1, k, k, 1], padding='SAME')\n",
    "    return X\n",
    "    '''\n",
    "    "
   ]
  },
  {
   "cell_type": "raw",
   "metadata": {},
   "source": [
    "from tensorflow.contrib.layers import flatten\n",
    "\n",
    "\n",
    "    # Flatten. Input = 5x5x16. Output = 400.\n",
    "    fc1 = flatten(conv2)\n",
    "\n",
    "    # Layer 3: Fully Connected. Input = 400. Output = 1024.\n",
    "    fc1_W = tf.Variable(tf.truncated_normal((fc1.get_shape().as_list()[-1], 1024), mean = 0.0, stddev = 1.0))\n",
    "    fc1_b = tf.Variable(tf.zeros(1024))\n",
    "    fc1 = tf.matmul(fc1, fc1_W) + fc1_b \n",
    "    fc1 = tf.nn.relu(fc1)\n",
    "    fc1 = tf.nn.dropout(fc1, keep_prob)"
   ]
  },
  {
   "cell_type": "markdown",
   "metadata": {
    "deletable": true,
    "editable": true
   },
   "source": [
    "### Flatten Layer\n",
    "Implement the `flatten` function to change the dimension of `x_tensor` from a 4-D tensor to a 2-D tensor.  The output should be the shape (*Batch Size*, *Flattened Image Size*). Shortcut option: you can use classes from the [TensorFlow Layers](https://www.tensorflow.org/api_docs/python/tf/layers) or [TensorFlow Layers (contrib)](https://www.tensorflow.org/api_guides/python/contrib.layers) packages for this layer. For more of a challenge, only use other TensorFlow packages."
   ]
  },
  {
   "cell_type": "code",
   "execution_count": 85,
   "metadata": {
    "collapsed": false,
    "deletable": true,
    "editable": true
   },
   "outputs": [
    {
     "name": "stdout",
     "output_type": "stream",
     "text": [
      "Tests Passed\n"
     ]
    }
   ],
   "source": [
    "def flatten(x_tensor):\n",
    "    \"\"\"\n",
    "    Flatten x_tensor to (Batch Size, Flattened Image Size)\n",
    "    : x_tensor: A tensor of size (Batch Size, ...), where ... are the image dimensions.\n",
    "    : return: A tensor of size (Batch Size, Flattened Image Size).\n",
    "    \"\"\"\n",
    "    # TODO: Implement Function\n",
    "    return tf.contrib.layers.flatten(x_tensor)\n",
    "\n",
    "\n",
    "\"\"\"\n",
    "DON'T MODIFY ANYTHING IN THIS CELL THAT IS BELOW THIS LINE\n",
    "\"\"\"\n",
    "tests.test_flatten(flatten)"
   ]
  },
  {
   "cell_type": "markdown",
   "metadata": {
    "deletable": true,
    "editable": true
   },
   "source": [
    "### Fully-Connected Layer\n",
    "Implement the `fully_conn` function to apply a fully connected layer to `x_tensor` with the shape (*Batch Size*, *num_outputs*). Shortcut option: you can use classes from the [TensorFlow Layers](https://www.tensorflow.org/api_docs/python/tf/layers) or [TensorFlow Layers (contrib)](https://www.tensorflow.org/api_guides/python/contrib.layers) packages for this layer. For more of a challenge, only use other TensorFlow packages."
   ]
  },
  {
   "cell_type": "code",
   "execution_count": 86,
   "metadata": {
    "collapsed": false,
    "deletable": true,
    "editable": true
   },
   "outputs": [
    {
     "name": "stdout",
     "output_type": "stream",
     "text": [
      "Tests Passed\n"
     ]
    }
   ],
   "source": [
    "def fully_conn(x_tensor, num_outputs):\n",
    "    \"\"\"\n",
    "    Apply a fully connected layer to x_tensor using weight and bias\n",
    "    : x_tensor: A 2-D tensor where the first dimension is batch size.\n",
    "    : num_outputs: The number of output that the new tensor should be.\n",
    "    : return: A 2-D tensor where the second dimension is num_outputs.\n",
    "    \"\"\"\n",
    "    # TODO: Implement Function\n",
    "    #Step 1: create the weights and bias\n",
    "    shape = (x_tensor.get_shape().as_list()[-1], num_outputs)\n",
    "\n",
    "    fc_weights = tf.Variable(tf.truncated_normal(shape = shape, mean = 0.0, stddev = 0.1))\n",
    "    fc_bias = tf.Variable(tf.zeros(num_outputs))\n",
    "    \n",
    "    #Step 2: apply matmul\n",
    "    layer = tf.matmul(x_tensor, fc_weights)\n",
    "\n",
    "    #Step 3: add bias\n",
    "    layer = tf.nn.bias_add(layer, fc_bias) \n",
    "    \n",
    "    #Step 4: Activation\n",
    "    layer = tf.nn.relu(layer)\n",
    "    \n",
    "    return layer\n",
    "\n",
    "\n",
    "\"\"\"\n",
    "DON'T MODIFY ANYTHING IN THIS CELL THAT IS BELOW THIS LINE\n",
    "\"\"\"\n",
    "tests.test_fully_conn(fully_conn)"
   ]
  },
  {
   "cell_type": "markdown",
   "metadata": {
    "deletable": true,
    "editable": true
   },
   "source": [
    "### Output Layer\n",
    "Implement the `output` function to apply a fully connected layer to `x_tensor` with the shape (*Batch Size*, *num_outputs*). Shortcut option: you can use classes from the [TensorFlow Layers](https://www.tensorflow.org/api_docs/python/tf/layers) or [TensorFlow Layers (contrib)](https://www.tensorflow.org/api_guides/python/contrib.layers) packages for this layer. For more of a challenge, only use other TensorFlow packages.\n",
    "\n",
    "**Note:** Activation, softmax, or cross entropy should **not** be applied to this."
   ]
  },
  {
   "cell_type": "code",
   "execution_count": 87,
   "metadata": {
    "collapsed": false,
    "deletable": true,
    "editable": true
   },
   "outputs": [
    {
     "name": "stdout",
     "output_type": "stream",
     "text": [
      "Tests Passed\n"
     ]
    }
   ],
   "source": [
    "def output(x_tensor, num_outputs):\n",
    "    \"\"\"\n",
    "    Apply a output layer to x_tensor using weight and bias\n",
    "    : x_tensor: A 2-D tensor where the first dimension is batch size.\n",
    "    : num_outputs: The number of output that the new tensor should be.\n",
    "    : return: A 2-D tensor where the second dimension is num_outputs.\n",
    "    \"\"\"\n",
    "    # TODO: Implement Function\n",
    "    #Step 1: create the weights and bias\n",
    "    shape = (x_tensor.get_shape().as_list()[-1], num_outputs)\n",
    "\n",
    "    weights = tf.Variable(tf.truncated_normal(shape = shape, mean = 0.0, stddev = 0.1))\n",
    "    bias = tf.Variable(tf.zeros(num_outputs))\n",
    "    \n",
    "    #Step 2: apply matmul\n",
    "    layer = tf.matmul(x_tensor, weights)\n",
    "\n",
    "    #Step 3: add bias\n",
    "    layer = tf.nn.bias_add(layer, bias) \n",
    "    \n",
    "    return layer\n",
    "\n",
    "\n",
    "\"\"\"\n",
    "DON'T MODIFY ANYTHING IN THIS CELL THAT IS BELOW THIS LINE\n",
    "\"\"\"\n",
    "tests.test_output(output)"
   ]
  },
  {
   "cell_type": "markdown",
   "metadata": {
    "deletable": true,
    "editable": true
   },
   "source": [
    "### Create Convolutional Model\n",
    "Implement the function `conv_net` to create a convolutional neural network model. The function takes in a batch of images, `x`, and outputs logits.  Use the layers you created above to create this model:\n",
    "\n",
    "* Apply 1, 2, or 3 Convolution and Max Pool layers\n",
    "* Apply a Flatten Layer\n",
    "* Apply 1, 2, or 3 Fully Connected Layers\n",
    "* Apply an Output Layer\n",
    "* Return the output\n",
    "* Apply [TensorFlow's Dropout](https://www.tensorflow.org/api_docs/python/tf/nn/dropout) to one or more layers in the model using `keep_prob`. "
   ]
  },
  {
   "cell_type": "code",
   "execution_count": 88,
   "metadata": {
    "collapsed": false,
    "deletable": true,
    "editable": true
   },
   "outputs": [
    {
     "name": "stdout",
     "output_type": "stream",
     "text": [
      "Neural Network Built!\n"
     ]
    }
   ],
   "source": [
    "def conv_net(x, keep_prob):\n",
    "    \"\"\"\n",
    "    Create a convolutional neural network model\n",
    "    : x: Placeholder tensor that holds image data.\n",
    "    : keep_prob: Placeholder tensor that hold dropout keep probability.\n",
    "    : return: Tensor that represents logits\n",
    "    \"\"\"\n",
    "    # TODO: Apply 1, 2, or 3 Convolution and Max Pool layers\n",
    "    #    Play around with different number of outputs, kernel size and stride\n",
    "    # Function Definition from Above:\n",
    "    #    conv2d_maxpool(x_tensor, conv_num_outputs, conv_ksize, conv_strides, pool_ksize, pool_strides)\n",
    "    conv_ksize = [4, 4]\n",
    "    conv_strides = [1, 1]\n",
    "    pool_ksize = [2, 2] \n",
    "    pool_strides = [2, 2]\n",
    "    \n",
    "    conv_num_outputs_1 = 16\n",
    "    conv_num_outputs_2 = 32\n",
    "    conv_num_outputs_3 = 64\n",
    "    num_outputs = 10\n",
    "    \n",
    "    conv_layer1 = conv2d_maxpool(x,           conv_num_outputs_1, conv_ksize, conv_strides, pool_ksize, pool_strides)\n",
    "    conv_layer2 = conv2d_maxpool(conv_layer1, conv_num_outputs_2, conv_ksize, conv_strides, pool_ksize, pool_strides)\n",
    "    conv_layer3 = conv2d_maxpool(conv_layer2, conv_num_outputs_3, conv_ksize, conv_strides, pool_ksize, pool_strides)\n",
    "    \n",
    "    # TODO: Apply a Flatten Layer\n",
    "    # Function Definition from Above:\n",
    "    #   flatten(x_tensor)\n",
    "    flatten_layer = flatten(conv_layer3)\n",
    "\n",
    "    \n",
    "    # TODO: Apply 1, 2, or 3 Fully Connected Layers\n",
    "    #    Play around with different number of outputs\n",
    "    # Function Definition from Above:\n",
    "    #   fully_conn(x_tensor, num_outputs)\n",
    "    #fc_layer1 = fully_conn(flatten_layer, 32)\n",
    "    #fc_layer2 = fully_conn(fc_layer1, 16)\n",
    "    fc_layer = fully_conn(flatten_layer, num_outputs)\n",
    "    fc_layer = tf.nn.dropout(fc_layer, keep_prob)\n",
    "    \n",
    "    \n",
    "    # TODO: Apply an Output Layer\n",
    "    #    Set this to the number of classes\n",
    "    # Function Definition from Above:\n",
    "    #   output(x_tensor, num_outputs)\n",
    "    \n",
    "    output_layer = output(fc_layer, num_outputs)\n",
    "    \n",
    "    # TODO: return output\n",
    "    return output_layer\n",
    "\n",
    "\n",
    "\"\"\"\n",
    "DON'T MODIFY ANYTHING IN THIS CELL THAT IS BELOW THIS LINE\n",
    "\"\"\"\n",
    "\n",
    "##############################\n",
    "## Build the Neural Network ##\n",
    "##############################\n",
    "\n",
    "# Remove previous weights, bias, inputs, etc..\n",
    "tf.reset_default_graph()\n",
    "\n",
    "# Inputs\n",
    "x = neural_net_image_input((32, 32, 3))\n",
    "y = neural_net_label_input(10)\n",
    "keep_prob = neural_net_keep_prob_input()\n",
    "\n",
    "# Model\n",
    "logits = conv_net(x, keep_prob)\n",
    "\n",
    "# Name logits Tensor, so that is can be loaded from disk after training\n",
    "logits = tf.identity(logits, name='logits')\n",
    "\n",
    "# Loss and Optimizer\n",
    "cost = tf.reduce_mean(tf.nn.softmax_cross_entropy_with_logits(logits=logits, labels=y))\n",
    "optimizer = tf.train.AdamOptimizer().minimize(cost)\n",
    "\n",
    "# Accuracy\n",
    "correct_pred = tf.equal(tf.argmax(logits, 1), tf.argmax(y, 1))\n",
    "accuracy = tf.reduce_mean(tf.cast(correct_pred, tf.float32), name='accuracy')\n",
    "\n",
    "tests.test_conv_net(conv_net)"
   ]
  },
  {
   "cell_type": "markdown",
   "metadata": {
    "deletable": true,
    "editable": true
   },
   "source": [
    "## Train the Neural Network\n",
    "### Single Optimization\n",
    "Implement the function `train_neural_network` to do a single optimization.  The optimization should use `optimizer` to optimize in `session` with a `feed_dict` of the following:\n",
    "* `x` for image input\n",
    "* `y` for labels\n",
    "* `keep_prob` for keep probability for dropout\n",
    "\n",
    "This function will be called for each batch, so `tf.global_variables_initializer()` has already been called.\n",
    "\n",
    "Note: Nothing needs to be returned. This function is only optimizing the neural network."
   ]
  },
  {
   "cell_type": "code",
   "execution_count": 90,
   "metadata": {
    "collapsed": false,
    "deletable": true,
    "editable": true
   },
   "outputs": [
    {
     "name": "stdout",
     "output_type": "stream",
     "text": [
      "Tests Passed\n"
     ]
    }
   ],
   "source": [
    "def train_neural_network(session, optimizer, keep_probability, feature_batch, label_batch):\n",
    "    \"\"\"\n",
    "    Optimize the session on a batch of images and labels\n",
    "    : session: Current TensorFlow session\n",
    "    : optimizer: TensorFlow optimizer function\n",
    "    : keep_probability: keep probability\n",
    "    : feature_batch: Batch of Numpy image data\n",
    "    : label_batch: Batch of Numpy label data\n",
    "    \"\"\"\n",
    "    # TODO: Implement Function\n",
    "    session.run(optimizer, feed_dict={x : feature_batch, \n",
    "                                      y : label_batch, \n",
    "                                      keep_prob : keep_probability})\n",
    "    #pass\n",
    "\n",
    "\n",
    "\"\"\"\n",
    "DON'T MODIFY ANYTHING IN THIS CELL THAT IS BELOW THIS LINE\n",
    "\"\"\"\n",
    "tests.test_train_nn(train_neural_network)"
   ]
  },
  {
   "cell_type": "markdown",
   "metadata": {
    "deletable": true,
    "editable": true
   },
   "source": [
    "### Show Stats\n",
    "Implement the function `print_stats` to print loss and validation accuracy.  Use the global variables `valid_features` and `valid_labels` to calculate validation accuracy.  Use a keep probability of `1.0` to calculate the loss and validation accuracy."
   ]
  },
  {
   "cell_type": "code",
   "execution_count": 91,
   "metadata": {
    "collapsed": false,
    "deletable": true,
    "editable": true
   },
   "outputs": [],
   "source": [
    "def print_stats(session, feature_batch, label_batch, cost, accuracy):\n",
    "    \"\"\"\n",
    "    Print information about loss and validation accuracy\n",
    "    : session: Current TensorFlow session\n",
    "    : feature_batch: Batch of Numpy image data\n",
    "    : label_batch: Batch of Numpy label data\n",
    "    : cost: TensorFlow cost function\n",
    "    : accuracy: TensorFlow accuracy function\n",
    "    \"\"\"\n",
    "    # TODO: Implement Function\n",
    "    train_loss = session.run(cost, feed_dict={x: feature_batch, y: label_batch, keep_prob: 1.0})\n",
    "    \n",
    "    valid_acc = session.run(accuracy, feed_dict={x: valid_features, y: valid_labels, keep_prob: 1.0})\n",
    "    \n",
    "    print('Loss: {:>10.4f} Validation Accuracy: {:.6f}'.format(train_loss, valid_acc))\n",
    "    pass"
   ]
  },
  {
   "cell_type": "markdown",
   "metadata": {
    "deletable": true,
    "editable": true
   },
   "source": [
    "### Hyperparameters\n",
    "Tune the following parameters:\n",
    "* Set `epochs` to the number of iterations until the network stops learning or start overfitting\n",
    "* Set `batch_size` to the highest number that your machine has memory for.  Most people set them to common sizes of memory:\n",
    " * 64\n",
    " * 128\n",
    " * 256\n",
    " * ...\n",
    "* Set `keep_probability` to the probability of keeping a node using dropout"
   ]
  },
  {
   "cell_type": "code",
   "execution_count": 92,
   "metadata": {
    "collapsed": true,
    "deletable": true,
    "editable": true
   },
   "outputs": [],
   "source": [
    "# TODO: Tune Parameters\n",
    "epochs = 50\n",
    "batch_size = 128\n",
    "keep_probability = 0.75"
   ]
  },
  {
   "cell_type": "markdown",
   "metadata": {
    "deletable": true,
    "editable": true
   },
   "source": [
    "### Train on a Single CIFAR-10 Batch\n",
    "Instead of training the neural network on all the CIFAR-10 batches of data, let's use a single batch. This should save time while you iterate on the model to get a better accuracy.  Once the final validation accuracy is 50% or greater, run the model on all the data in the next section."
   ]
  },
  {
   "cell_type": "code",
   "execution_count": 94,
   "metadata": {
    "collapsed": false,
    "deletable": true,
    "editable": true
   },
   "outputs": [
    {
     "name": "stdout",
     "output_type": "stream",
     "text": [
      "Checking the Training on a Single Batch...\n",
      "Epoch  1, CIFAR-10 Batch 1:  Loss:     2.2464 Validation Accuracy: 0.197600\n",
      "Epoch  2, CIFAR-10 Batch 1:  Loss:     2.1113 Validation Accuracy: 0.222600\n",
      "Epoch  3, CIFAR-10 Batch 1:  Loss:     2.0210 Validation Accuracy: 0.268400\n",
      "Epoch  4, CIFAR-10 Batch 1:  Loss:     1.9236 Validation Accuracy: 0.305400\n",
      "Epoch  5, CIFAR-10 Batch 1:  Loss:     1.8738 Validation Accuracy: 0.320000\n",
      "Epoch  6, CIFAR-10 Batch 1:  Loss:     1.8322 Validation Accuracy: 0.333400\n",
      "Epoch  7, CIFAR-10 Batch 1:  Loss:     1.7909 Validation Accuracy: 0.322200\n",
      "Epoch  8, CIFAR-10 Batch 1:  Loss:     1.7542 Validation Accuracy: 0.336200\n",
      "Epoch  9, CIFAR-10 Batch 1:  Loss:     1.7017 Validation Accuracy: 0.355000\n",
      "Epoch 10, CIFAR-10 Batch 1:  Loss:     1.6429 Validation Accuracy: 0.378400\n",
      "Epoch 11, CIFAR-10 Batch 1:  Loss:     1.5699 Validation Accuracy: 0.404200\n",
      "Epoch 12, CIFAR-10 Batch 1:  Loss:     1.5263 Validation Accuracy: 0.404200\n",
      "Epoch 13, CIFAR-10 Batch 1:  Loss:     1.4066 Validation Accuracy: 0.435000\n",
      "Epoch 14, CIFAR-10 Batch 1:  Loss:     1.3919 Validation Accuracy: 0.433400\n",
      "Epoch 15, CIFAR-10 Batch 1:  Loss:     1.3743 Validation Accuracy: 0.433400\n",
      "Epoch 16, CIFAR-10 Batch 1:  Loss:     1.2811 Validation Accuracy: 0.453000\n",
      "Epoch 17, CIFAR-10 Batch 1:  Loss:     1.2079 Validation Accuracy: 0.452000\n",
      "Epoch 18, CIFAR-10 Batch 1:  Loss:     1.1881 Validation Accuracy: 0.449200\n",
      "Epoch 19, CIFAR-10 Batch 1:  Loss:     1.1309 Validation Accuracy: 0.464200\n",
      "Epoch 20, CIFAR-10 Batch 1:  Loss:     1.1168 Validation Accuracy: 0.442000\n",
      "Epoch 21, CIFAR-10 Batch 1:  Loss:     1.1005 Validation Accuracy: 0.472800\n",
      "Epoch 22, CIFAR-10 Batch 1:  Loss:     1.0571 Validation Accuracy: 0.473600\n",
      "Epoch 23, CIFAR-10 Batch 1:  Loss:     1.0644 Validation Accuracy: 0.480800\n",
      "Epoch 24, CIFAR-10 Batch 1:  Loss:     0.9919 Validation Accuracy: 0.485800\n",
      "Epoch 25, CIFAR-10 Batch 1:  Loss:     0.9730 Validation Accuracy: 0.472800\n",
      "Epoch 26, CIFAR-10 Batch 1:  Loss:     0.9712 Validation Accuracy: 0.482400\n",
      "Epoch 27, CIFAR-10 Batch 1:  Loss:     0.9652 Validation Accuracy: 0.496000\n",
      "Epoch 28, CIFAR-10 Batch 1:  Loss:     0.9243 Validation Accuracy: 0.483000\n",
      "Epoch 29, CIFAR-10 Batch 1:  Loss:     0.9106 Validation Accuracy: 0.495000\n",
      "Epoch 30, CIFAR-10 Batch 1:  Loss:     0.8840 Validation Accuracy: 0.495400\n",
      "Epoch 31, CIFAR-10 Batch 1:  Loss:     0.9344 Validation Accuracy: 0.483200\n",
      "Epoch 32, CIFAR-10 Batch 1:  Loss:     0.8855 Validation Accuracy: 0.484400\n",
      "Epoch 33, CIFAR-10 Batch 1:  Loss:     0.8797 Validation Accuracy: 0.493000\n",
      "Epoch 34, CIFAR-10 Batch 1:  Loss:     0.9079 Validation Accuracy: 0.467600\n",
      "Epoch 35, CIFAR-10 Batch 1:  Loss:     0.8282 Validation Accuracy: 0.478600\n",
      "Epoch 36, CIFAR-10 Batch 1:  Loss:     0.8514 Validation Accuracy: 0.482400\n",
      "Epoch 37, CIFAR-10 Batch 1:  Loss:     0.7743 Validation Accuracy: 0.494800\n",
      "Epoch 38, CIFAR-10 Batch 1:  Loss:     0.7459 Validation Accuracy: 0.490000\n",
      "Epoch 39, CIFAR-10 Batch 1:  Loss:     0.7474 Validation Accuracy: 0.480600\n",
      "Epoch 40, CIFAR-10 Batch 1:  Loss:     0.7009 Validation Accuracy: 0.497600\n",
      "Epoch 41, CIFAR-10 Batch 1:  Loss:     0.7060 Validation Accuracy: 0.501000\n",
      "Epoch 42, CIFAR-10 Batch 1:  Loss:     0.6789 Validation Accuracy: 0.510400\n",
      "Epoch 43, CIFAR-10 Batch 1:  Loss:     0.6608 Validation Accuracy: 0.496200\n",
      "Epoch 44, CIFAR-10 Batch 1:  Loss:     0.5865 Validation Accuracy: 0.499000\n",
      "Epoch 45, CIFAR-10 Batch 1:  Loss:     0.6217 Validation Accuracy: 0.486000\n",
      "Epoch 46, CIFAR-10 Batch 1:  Loss:     0.6116 Validation Accuracy: 0.483600\n",
      "Epoch 47, CIFAR-10 Batch 1:  Loss:     0.6083 Validation Accuracy: 0.478800\n",
      "Epoch 48, CIFAR-10 Batch 1:  Loss:     0.5459 Validation Accuracy: 0.484200\n",
      "Epoch 49, CIFAR-10 Batch 1:  Loss:     0.5574 Validation Accuracy: 0.478600\n",
      "Epoch 50, CIFAR-10 Batch 1:  Loss:     0.5668 Validation Accuracy: 0.491000\n"
     ]
    }
   ],
   "source": [
    "\"\"\"\n",
    "DON'T MODIFY ANYTHING IN THIS CELL\n",
    "\"\"\"\n",
    "print('Checking the Training on a Single Batch...')\n",
    "with tf.Session() as sess:\n",
    "    # Initializing the variables\n",
    "    sess.run(tf.global_variables_initializer())\n",
    "    \n",
    "    # Training cycle\n",
    "    for epoch in range(epochs):\n",
    "        batch_i = 1\n",
    "        for batch_features, batch_labels in helper.load_preprocess_training_batch(batch_i, batch_size):\n",
    "            train_neural_network(sess, optimizer, keep_probability, batch_features, batch_labels)\n",
    "        print('Epoch {:>2}, CIFAR-10 Batch {}:  '.format(epoch + 1, batch_i), end='')\n",
    "        print_stats(sess, batch_features, batch_labels, cost, accuracy)"
   ]
  },
  {
   "cell_type": "markdown",
   "metadata": {
    "deletable": true,
    "editable": true
   },
   "source": [
    "### Fully Train the Model\n",
    "Now that you got a good accuracy with a single CIFAR-10 batch, try it with all five batches."
   ]
  },
  {
   "cell_type": "code",
   "execution_count": 95,
   "metadata": {
    "collapsed": false,
    "deletable": true,
    "editable": true
   },
   "outputs": [
    {
     "name": "stdout",
     "output_type": "stream",
     "text": [
      "Training...\n",
      "Epoch  1, CIFAR-10 Batch 1:  Loss:     2.2533 Validation Accuracy: 0.174800\n",
      "Epoch  1, CIFAR-10 Batch 2:  Loss:     2.2351 Validation Accuracy: 0.233800\n",
      "Epoch  1, CIFAR-10 Batch 3:  Loss:     2.0211 Validation Accuracy: 0.275400\n",
      "Epoch  1, CIFAR-10 Batch 4:  Loss:     1.8833 Validation Accuracy: 0.290600\n",
      "Epoch  1, CIFAR-10 Batch 5:  Loss:     1.7859 Validation Accuracy: 0.300800\n",
      "Epoch  2, CIFAR-10 Batch 1:  Loss:     2.0128 Validation Accuracy: 0.299600\n",
      "Epoch  2, CIFAR-10 Batch 2:  Loss:     1.8863 Validation Accuracy: 0.298800\n",
      "Epoch  2, CIFAR-10 Batch 3:  Loss:     1.6407 Validation Accuracy: 0.306600\n",
      "Epoch  2, CIFAR-10 Batch 4:  Loss:     1.7615 Validation Accuracy: 0.311200\n",
      "Epoch  2, CIFAR-10 Batch 5:  Loss:     1.7180 Validation Accuracy: 0.305400\n",
      "Epoch  3, CIFAR-10 Batch 1:  Loss:     1.8975 Validation Accuracy: 0.326600\n",
      "Epoch  3, CIFAR-10 Batch 2:  Loss:     1.8443 Validation Accuracy: 0.328000\n",
      "Epoch  3, CIFAR-10 Batch 3:  Loss:     1.6077 Validation Accuracy: 0.329200\n",
      "Epoch  3, CIFAR-10 Batch 4:  Loss:     1.6905 Validation Accuracy: 0.324600\n",
      "Epoch  3, CIFAR-10 Batch 5:  Loss:     1.6289 Validation Accuracy: 0.336400\n",
      "Epoch  4, CIFAR-10 Batch 1:  Loss:     1.7616 Validation Accuracy: 0.352400\n",
      "Epoch  4, CIFAR-10 Batch 2:  Loss:     1.7822 Validation Accuracy: 0.334800\n",
      "Epoch  4, CIFAR-10 Batch 3:  Loss:     1.6103 Validation Accuracy: 0.336600\n",
      "Epoch  4, CIFAR-10 Batch 4:  Loss:     1.6473 Validation Accuracy: 0.356800\n",
      "Epoch  4, CIFAR-10 Batch 5:  Loss:     1.5578 Validation Accuracy: 0.348800\n",
      "Epoch  5, CIFAR-10 Batch 1:  Loss:     1.6717 Validation Accuracy: 0.358400\n",
      "Epoch  5, CIFAR-10 Batch 2:  Loss:     1.7518 Validation Accuracy: 0.367800\n",
      "Epoch  5, CIFAR-10 Batch 3:  Loss:     1.5564 Validation Accuracy: 0.364800\n",
      "Epoch  5, CIFAR-10 Batch 4:  Loss:     1.6099 Validation Accuracy: 0.377200\n",
      "Epoch  5, CIFAR-10 Batch 5:  Loss:     1.4540 Validation Accuracy: 0.366400\n",
      "Epoch  6, CIFAR-10 Batch 1:  Loss:     1.6365 Validation Accuracy: 0.373800\n",
      "Epoch  6, CIFAR-10 Batch 2:  Loss:     1.6670 Validation Accuracy: 0.382600\n",
      "Epoch  6, CIFAR-10 Batch 3:  Loss:     1.4781 Validation Accuracy: 0.392200\n",
      "Epoch  6, CIFAR-10 Batch 4:  Loss:     1.5829 Validation Accuracy: 0.377800\n",
      "Epoch  6, CIFAR-10 Batch 5:  Loss:     1.3663 Validation Accuracy: 0.389600\n",
      "Epoch  7, CIFAR-10 Batch 1:  Loss:     1.5317 Validation Accuracy: 0.402600\n",
      "Epoch  7, CIFAR-10 Batch 2:  Loss:     1.6447 Validation Accuracy: 0.398400\n",
      "Epoch  7, CIFAR-10 Batch 3:  Loss:     1.4527 Validation Accuracy: 0.413600\n",
      "Epoch  7, CIFAR-10 Batch 4:  Loss:     1.5471 Validation Accuracy: 0.407200\n",
      "Epoch  7, CIFAR-10 Batch 5:  Loss:     1.3330 Validation Accuracy: 0.417400\n",
      "Epoch  8, CIFAR-10 Batch 1:  Loss:     1.4863 Validation Accuracy: 0.415000\n",
      "Epoch  8, CIFAR-10 Batch 2:  Loss:     1.5935 Validation Accuracy: 0.422400\n",
      "Epoch  8, CIFAR-10 Batch 3:  Loss:     1.4185 Validation Accuracy: 0.415000\n",
      "Epoch  8, CIFAR-10 Batch 4:  Loss:     1.4629 Validation Accuracy: 0.427200\n",
      "Epoch  8, CIFAR-10 Batch 5:  Loss:     1.2678 Validation Accuracy: 0.427200\n",
      "Epoch  9, CIFAR-10 Batch 1:  Loss:     1.4155 Validation Accuracy: 0.447400\n",
      "Epoch  9, CIFAR-10 Batch 2:  Loss:     1.4738 Validation Accuracy: 0.441800\n",
      "Epoch  9, CIFAR-10 Batch 3:  Loss:     1.4197 Validation Accuracy: 0.436200\n",
      "Epoch  9, CIFAR-10 Batch 4:  Loss:     1.4152 Validation Accuracy: 0.439000\n",
      "Epoch  9, CIFAR-10 Batch 5:  Loss:     1.2161 Validation Accuracy: 0.456400\n",
      "Epoch 10, CIFAR-10 Batch 1:  Loss:     1.3195 Validation Accuracy: 0.465000\n",
      "Epoch 10, CIFAR-10 Batch 2:  Loss:     1.4180 Validation Accuracy: 0.464000\n",
      "Epoch 10, CIFAR-10 Batch 3:  Loss:     1.3720 Validation Accuracy: 0.449000\n",
      "Epoch 10, CIFAR-10 Batch 4:  Loss:     1.3363 Validation Accuracy: 0.456600\n",
      "Epoch 10, CIFAR-10 Batch 5:  Loss:     1.1555 Validation Accuracy: 0.480600\n",
      "Epoch 11, CIFAR-10 Batch 1:  Loss:     1.2953 Validation Accuracy: 0.464800\n",
      "Epoch 11, CIFAR-10 Batch 2:  Loss:     1.3101 Validation Accuracy: 0.475600\n",
      "Epoch 11, CIFAR-10 Batch 3:  Loss:     1.3220 Validation Accuracy: 0.464200\n",
      "Epoch 11, CIFAR-10 Batch 4:  Loss:     1.2923 Validation Accuracy: 0.471000\n",
      "Epoch 11, CIFAR-10 Batch 5:  Loss:     1.1029 Validation Accuracy: 0.499200\n",
      "Epoch 12, CIFAR-10 Batch 1:  Loss:     1.2424 Validation Accuracy: 0.482400\n",
      "Epoch 12, CIFAR-10 Batch 2:  Loss:     1.2423 Validation Accuracy: 0.486600\n",
      "Epoch 12, CIFAR-10 Batch 3:  Loss:     1.2736 Validation Accuracy: 0.485000\n",
      "Epoch 12, CIFAR-10 Batch 4:  Loss:     1.2889 Validation Accuracy: 0.497000\n",
      "Epoch 12, CIFAR-10 Batch 5:  Loss:     1.0841 Validation Accuracy: 0.505600\n",
      "Epoch 13, CIFAR-10 Batch 1:  Loss:     1.1767 Validation Accuracy: 0.502400\n",
      "Epoch 13, CIFAR-10 Batch 2:  Loss:     1.2231 Validation Accuracy: 0.511400\n",
      "Epoch 13, CIFAR-10 Batch 3:  Loss:     1.1536 Validation Accuracy: 0.507800\n",
      "Epoch 13, CIFAR-10 Batch 4:  Loss:     1.2189 Validation Accuracy: 0.496600\n",
      "Epoch 13, CIFAR-10 Batch 5:  Loss:     1.0034 Validation Accuracy: 0.519200\n",
      "Epoch 14, CIFAR-10 Batch 1:  Loss:     1.1322 Validation Accuracy: 0.498400\n",
      "Epoch 14, CIFAR-10 Batch 2:  Loss:     1.2088 Validation Accuracy: 0.514800\n",
      "Epoch 14, CIFAR-10 Batch 3:  Loss:     1.2364 Validation Accuracy: 0.499800\n",
      "Epoch 14, CIFAR-10 Batch 4:  Loss:     1.1561 Validation Accuracy: 0.526200\n",
      "Epoch 14, CIFAR-10 Batch 5:  Loss:     0.9896 Validation Accuracy: 0.531600\n",
      "Epoch 15, CIFAR-10 Batch 1:  Loss:     1.0532 Validation Accuracy: 0.522200\n",
      "Epoch 15, CIFAR-10 Batch 2:  Loss:     1.1679 Validation Accuracy: 0.537600\n",
      "Epoch 15, CIFAR-10 Batch 3:  Loss:     1.1528 Validation Accuracy: 0.507800\n",
      "Epoch 15, CIFAR-10 Batch 4:  Loss:     1.1147 Validation Accuracy: 0.519800\n",
      "Epoch 15, CIFAR-10 Batch 5:  Loss:     0.9356 Validation Accuracy: 0.532600\n",
      "Epoch 16, CIFAR-10 Batch 1:  Loss:     1.0037 Validation Accuracy: 0.540800\n",
      "Epoch 16, CIFAR-10 Batch 2:  Loss:     1.1216 Validation Accuracy: 0.555200\n",
      "Epoch 16, CIFAR-10 Batch 3:  Loss:     1.0076 Validation Accuracy: 0.540800\n",
      "Epoch 16, CIFAR-10 Batch 4:  Loss:     0.9835 Validation Accuracy: 0.553600\n",
      "Epoch 16, CIFAR-10 Batch 5:  Loss:     0.9487 Validation Accuracy: 0.546600\n",
      "Epoch 17, CIFAR-10 Batch 1:  Loss:     0.9879 Validation Accuracy: 0.555000\n",
      "Epoch 17, CIFAR-10 Batch 2:  Loss:     1.0876 Validation Accuracy: 0.565800\n",
      "Epoch 17, CIFAR-10 Batch 3:  Loss:     0.9419 Validation Accuracy: 0.562400\n",
      "Epoch 17, CIFAR-10 Batch 4:  Loss:     0.9514 Validation Accuracy: 0.567400\n",
      "Epoch 17, CIFAR-10 Batch 5:  Loss:     0.8779 Validation Accuracy: 0.576400\n",
      "Epoch 18, CIFAR-10 Batch 1:  Loss:     0.9464 Validation Accuracy: 0.567200\n",
      "Epoch 18, CIFAR-10 Batch 2:  Loss:     1.0392 Validation Accuracy: 0.567600\n",
      "Epoch 18, CIFAR-10 Batch 3:  Loss:     0.8955 Validation Accuracy: 0.573600\n",
      "Epoch 18, CIFAR-10 Batch 4:  Loss:     0.8897 Validation Accuracy: 0.572200\n",
      "Epoch 18, CIFAR-10 Batch 5:  Loss:     0.7997 Validation Accuracy: 0.582200\n",
      "Epoch 19, CIFAR-10 Batch 1:  Loss:     0.9011 Validation Accuracy: 0.570400\n",
      "Epoch 19, CIFAR-10 Batch 2:  Loss:     0.9722 Validation Accuracy: 0.578200\n",
      "Epoch 19, CIFAR-10 Batch 3:  Loss:     0.8284 Validation Accuracy: 0.587600\n",
      "Epoch 19, CIFAR-10 Batch 4:  Loss:     0.8609 Validation Accuracy: 0.575600\n",
      "Epoch 19, CIFAR-10 Batch 5:  Loss:     0.7906 Validation Accuracy: 0.576600\n",
      "Epoch 20, CIFAR-10 Batch 1:  Loss:     0.8574 Validation Accuracy: 0.571000\n",
      "Epoch 20, CIFAR-10 Batch 2:  Loss:     0.9710 Validation Accuracy: 0.579000\n",
      "Epoch 20, CIFAR-10 Batch 3:  Loss:     0.8743 Validation Accuracy: 0.558400\n",
      "Epoch 20, CIFAR-10 Batch 4:  Loss:     0.8071 Validation Accuracy: 0.586200\n",
      "Epoch 20, CIFAR-10 Batch 5:  Loss:     0.7377 Validation Accuracy: 0.585000\n",
      "Epoch 21, CIFAR-10 Batch 1:  Loss:     0.8734 Validation Accuracy: 0.572000\n",
      "Epoch 21, CIFAR-10 Batch 2:  Loss:     0.9234 Validation Accuracy: 0.585000\n",
      "Epoch 21, CIFAR-10 Batch 3:  Loss:     0.8193 Validation Accuracy: 0.573400\n",
      "Epoch 21, CIFAR-10 Batch 4:  Loss:     0.7573 Validation Accuracy: 0.574000\n",
      "Epoch 21, CIFAR-10 Batch 5:  Loss:     0.7468 Validation Accuracy: 0.580600\n",
      "Epoch 22, CIFAR-10 Batch 1:  Loss:     0.8256 Validation Accuracy: 0.577000\n",
      "Epoch 22, CIFAR-10 Batch 2:  Loss:     0.8918 Validation Accuracy: 0.573000\n",
      "Epoch 22, CIFAR-10 Batch 3:  Loss:     0.8237 Validation Accuracy: 0.567000\n",
      "Epoch 22, CIFAR-10 Batch 4:  Loss:     0.7276 Validation Accuracy: 0.587600\n",
      "Epoch 22, CIFAR-10 Batch 5:  Loss:     0.7233 Validation Accuracy: 0.583200\n",
      "Epoch 23, CIFAR-10 Batch 1:  Loss:     0.7840 Validation Accuracy: 0.580200\n",
      "Epoch 23, CIFAR-10 Batch 2:  Loss:     0.8677 Validation Accuracy: 0.579000\n",
      "Epoch 23, CIFAR-10 Batch 3:  Loss:     0.8109 Validation Accuracy: 0.583200\n",
      "Epoch 23, CIFAR-10 Batch 4:  Loss:     0.7008 Validation Accuracy: 0.584800\n",
      "Epoch 23, CIFAR-10 Batch 5:  Loss:     0.7125 Validation Accuracy: 0.589600\n",
      "Epoch 24, CIFAR-10 Batch 1:  Loss:     0.7768 Validation Accuracy: 0.579400\n",
      "Epoch 24, CIFAR-10 Batch 2:  Loss:     0.8598 Validation Accuracy: 0.577400\n",
      "Epoch 24, CIFAR-10 Batch 3:  Loss:     0.8012 Validation Accuracy: 0.561000\n",
      "Epoch 24, CIFAR-10 Batch 4:  Loss:     0.6854 Validation Accuracy: 0.587600\n",
      "Epoch 24, CIFAR-10 Batch 5:  Loss:     0.6521 Validation Accuracy: 0.594400\n",
      "Epoch 25, CIFAR-10 Batch 1:  Loss:     0.7872 Validation Accuracy: 0.591400\n",
      "Epoch 25, CIFAR-10 Batch 2:  Loss:     0.8030 Validation Accuracy: 0.589000\n",
      "Epoch 25, CIFAR-10 Batch 3:  Loss:     0.7608 Validation Accuracy: 0.565200\n",
      "Epoch 25, CIFAR-10 Batch 4:  Loss:     0.6858 Validation Accuracy: 0.590000\n",
      "Epoch 25, CIFAR-10 Batch 5:  Loss:     0.6569 Validation Accuracy: 0.593200\n",
      "Epoch 26, CIFAR-10 Batch 1:  Loss:     0.7439 Validation Accuracy: 0.574200\n",
      "Epoch 26, CIFAR-10 Batch 2:  Loss:     0.7632 Validation Accuracy: 0.584600\n",
      "Epoch 26, CIFAR-10 Batch 3:  Loss:     0.7658 Validation Accuracy: 0.565000\n",
      "Epoch 26, CIFAR-10 Batch 4:  Loss:     0.6836 Validation Accuracy: 0.585600\n",
      "Epoch 26, CIFAR-10 Batch 5:  Loss:     0.6817 Validation Accuracy: 0.595000\n",
      "Epoch 27, CIFAR-10 Batch 1:  Loss:     0.7483 Validation Accuracy: 0.589800\n",
      "Epoch 27, CIFAR-10 Batch 2:  Loss:     0.7871 Validation Accuracy: 0.588800\n",
      "Epoch 27, CIFAR-10 Batch 3:  Loss:     0.7629 Validation Accuracy: 0.559600\n",
      "Epoch 27, CIFAR-10 Batch 4:  Loss:     0.6698 Validation Accuracy: 0.586000\n",
      "Epoch 27, CIFAR-10 Batch 5:  Loss:     0.6361 Validation Accuracy: 0.589200\n",
      "Epoch 28, CIFAR-10 Batch 1:  Loss:     0.7107 Validation Accuracy: 0.581200\n",
      "Epoch 28, CIFAR-10 Batch 2:  Loss:     0.7235 Validation Accuracy: 0.581400\n",
      "Epoch 28, CIFAR-10 Batch 3:  Loss:     0.7874 Validation Accuracy: 0.541600\n",
      "Epoch 28, CIFAR-10 Batch 4:  Loss:     0.6753 Validation Accuracy: 0.588600\n",
      "Epoch 28, CIFAR-10 Batch 5:  Loss:     0.6478 Validation Accuracy: 0.577200\n",
      "Epoch 29, CIFAR-10 Batch 1:  Loss:     0.7192 Validation Accuracy: 0.585800\n",
      "Epoch 29, CIFAR-10 Batch 2:  Loss:     0.6798 Validation Accuracy: 0.584800\n",
      "Epoch 29, CIFAR-10 Batch 3:  Loss:     0.6864 Validation Accuracy: 0.568800\n",
      "Epoch 29, CIFAR-10 Batch 4:  Loss:     0.6579 Validation Accuracy: 0.591200\n",
      "Epoch 29, CIFAR-10 Batch 5:  Loss:     0.6216 Validation Accuracy: 0.592400\n",
      "Epoch 30, CIFAR-10 Batch 1:  Loss:     0.7155 Validation Accuracy: 0.575200\n",
      "Epoch 30, CIFAR-10 Batch 2:  Loss:     0.6616 Validation Accuracy: 0.595800\n",
      "Epoch 30, CIFAR-10 Batch 3:  Loss:     0.7225 Validation Accuracy: 0.571200\n",
      "Epoch 30, CIFAR-10 Batch 4:  Loss:     0.6824 Validation Accuracy: 0.586800\n",
      "Epoch 30, CIFAR-10 Batch 5:  Loss:     0.6363 Validation Accuracy: 0.573200\n",
      "Epoch 31, CIFAR-10 Batch 1:  Loss:     0.6899 Validation Accuracy: 0.585400\n",
      "Epoch 31, CIFAR-10 Batch 2:  Loss:     0.6300 Validation Accuracy: 0.592200\n",
      "Epoch 31, CIFAR-10 Batch 3:  Loss:     0.6537 Validation Accuracy: 0.586800\n",
      "Epoch 31, CIFAR-10 Batch 4:  Loss:     0.6481 Validation Accuracy: 0.590600\n",
      "Epoch 31, CIFAR-10 Batch 5:  Loss:     0.6060 Validation Accuracy: 0.587400\n",
      "Epoch 32, CIFAR-10 Batch 1:  Loss:     0.6578 Validation Accuracy: 0.600400\n",
      "Epoch 32, CIFAR-10 Batch 2:  Loss:     0.6174 Validation Accuracy: 0.593400\n",
      "Epoch 32, CIFAR-10 Batch 3:  Loss:     0.6296 Validation Accuracy: 0.585200\n",
      "Epoch 32, CIFAR-10 Batch 4:  Loss:     0.6276 Validation Accuracy: 0.584600\n",
      "Epoch 32, CIFAR-10 Batch 5:  Loss:     0.5816 Validation Accuracy: 0.583200\n",
      "Epoch 33, CIFAR-10 Batch 1:  Loss:     0.6804 Validation Accuracy: 0.608600\n",
      "Epoch 33, CIFAR-10 Batch 2:  Loss:     0.5604 Validation Accuracy: 0.596400\n",
      "Epoch 33, CIFAR-10 Batch 3:  Loss:     0.5605 Validation Accuracy: 0.596200\n",
      "Epoch 33, CIFAR-10 Batch 4:  Loss:     0.6084 Validation Accuracy: 0.591800\n",
      "Epoch 33, CIFAR-10 Batch 5:  Loss:     0.6062 Validation Accuracy: 0.590800\n",
      "Epoch 34, CIFAR-10 Batch 1:  Loss:     0.6530 Validation Accuracy: 0.610600\n",
      "Epoch 34, CIFAR-10 Batch 2:  Loss:     0.5573 Validation Accuracy: 0.601800\n",
      "Epoch 34, CIFAR-10 Batch 3:  Loss:     0.5626 Validation Accuracy: 0.598200\n",
      "Epoch 34, CIFAR-10 Batch 4:  Loss:     0.5805 Validation Accuracy: 0.608600\n",
      "Epoch 34, CIFAR-10 Batch 5:  Loss:     0.5683 Validation Accuracy: 0.604800\n",
      "Epoch 35, CIFAR-10 Batch 1:  Loss:     0.6558 Validation Accuracy: 0.588200\n",
      "Epoch 35, CIFAR-10 Batch 2:  Loss:     0.5083 Validation Accuracy: 0.599000\n",
      "Epoch 35, CIFAR-10 Batch 3:  Loss:     0.5510 Validation Accuracy: 0.599400\n",
      "Epoch 35, CIFAR-10 Batch 4:  Loss:     0.5675 Validation Accuracy: 0.601000\n",
      "Epoch 35, CIFAR-10 Batch 5:  Loss:     0.5888 Validation Accuracy: 0.602600\n",
      "Epoch 36, CIFAR-10 Batch 1:  Loss:     0.6269 Validation Accuracy: 0.607200\n",
      "Epoch 36, CIFAR-10 Batch 2:  Loss:     0.5243 Validation Accuracy: 0.601600\n",
      "Epoch 36, CIFAR-10 Batch 3:  Loss:     0.5748 Validation Accuracy: 0.603400\n",
      "Epoch 36, CIFAR-10 Batch 4:  Loss:     0.5691 Validation Accuracy: 0.600400\n",
      "Epoch 36, CIFAR-10 Batch 5:  Loss:     0.5572 Validation Accuracy: 0.608400\n",
      "Epoch 37, CIFAR-10 Batch 1:  Loss:     0.6097 Validation Accuracy: 0.614200\n",
      "Epoch 37, CIFAR-10 Batch 2:  Loss:     0.4991 Validation Accuracy: 0.598800\n",
      "Epoch 37, CIFAR-10 Batch 3:  Loss:     0.5234 Validation Accuracy: 0.604600\n",
      "Epoch 37, CIFAR-10 Batch 4:  Loss:     0.5542 Validation Accuracy: 0.601200\n",
      "Epoch 37, CIFAR-10 Batch 5:  Loss:     0.5477 Validation Accuracy: 0.607200\n",
      "Epoch 38, CIFAR-10 Batch 1:  Loss:     0.6058 Validation Accuracy: 0.610000\n",
      "Epoch 38, CIFAR-10 Batch 2:  Loss:     0.5408 Validation Accuracy: 0.598000\n",
      "Epoch 38, CIFAR-10 Batch 3:  Loss:     0.4821 Validation Accuracy: 0.608800\n",
      "Epoch 38, CIFAR-10 Batch 4:  Loss:     0.5153 Validation Accuracy: 0.599400\n",
      "Epoch 38, CIFAR-10 Batch 5:  Loss:     0.5735 Validation Accuracy: 0.601400\n",
      "Epoch 39, CIFAR-10 Batch 1:  Loss:     0.6073 Validation Accuracy: 0.607800\n",
      "Epoch 39, CIFAR-10 Batch 2:  Loss:     0.5311 Validation Accuracy: 0.595800\n",
      "Epoch 39, CIFAR-10 Batch 3:  Loss:     0.4864 Validation Accuracy: 0.616000\n",
      "Epoch 39, CIFAR-10 Batch 4:  Loss:     0.5387 Validation Accuracy: 0.607000\n",
      "Epoch 39, CIFAR-10 Batch 5:  Loss:     0.5026 Validation Accuracy: 0.623600\n",
      "Epoch 40, CIFAR-10 Batch 1:  Loss:     0.6011 Validation Accuracy: 0.614400\n",
      "Epoch 40, CIFAR-10 Batch 2:  Loss:     0.5523 Validation Accuracy: 0.587000\n",
      "Epoch 40, CIFAR-10 Batch 3:  Loss:     0.4541 Validation Accuracy: 0.605000\n",
      "Epoch 40, CIFAR-10 Batch 4:  Loss:     0.5188 Validation Accuracy: 0.619600\n",
      "Epoch 40, CIFAR-10 Batch 5:  Loss:     0.4998 Validation Accuracy: 0.614600\n",
      "Epoch 41, CIFAR-10 Batch 1:  Loss:     0.6261 Validation Accuracy: 0.608000\n",
      "Epoch 41, CIFAR-10 Batch 2:  Loss:     0.5158 Validation Accuracy: 0.582400\n",
      "Epoch 41, CIFAR-10 Batch 3:  Loss:     0.5186 Validation Accuracy: 0.611800\n",
      "Epoch 41, CIFAR-10 Batch 4:  Loss:     0.5127 Validation Accuracy: 0.615200\n",
      "Epoch 41, CIFAR-10 Batch 5:  Loss:     0.4707 Validation Accuracy: 0.611000\n",
      "Epoch 42, CIFAR-10 Batch 1:  Loss:     0.5811 Validation Accuracy: 0.617400\n",
      "Epoch 42, CIFAR-10 Batch 2:  Loss:     0.5322 Validation Accuracy: 0.592800\n",
      "Epoch 42, CIFAR-10 Batch 3:  Loss:     0.4417 Validation Accuracy: 0.607200\n",
      "Epoch 42, CIFAR-10 Batch 4:  Loss:     0.5296 Validation Accuracy: 0.608000\n",
      "Epoch 42, CIFAR-10 Batch 5:  Loss:     0.4800 Validation Accuracy: 0.615400\n",
      "Epoch 43, CIFAR-10 Batch 1:  Loss:     0.5746 Validation Accuracy: 0.615600\n",
      "Epoch 43, CIFAR-10 Batch 2:  Loss:     0.5434 Validation Accuracy: 0.561000\n",
      "Epoch 43, CIFAR-10 Batch 3:  Loss:     0.4547 Validation Accuracy: 0.605800\n",
      "Epoch 43, CIFAR-10 Batch 4:  Loss:     0.4658 Validation Accuracy: 0.614800\n",
      "Epoch 43, CIFAR-10 Batch 5:  Loss:     0.4598 Validation Accuracy: 0.616000\n",
      "Epoch 44, CIFAR-10 Batch 1:  Loss:     0.5573 Validation Accuracy: 0.599600\n",
      "Epoch 44, CIFAR-10 Batch 2:  Loss:     0.4940 Validation Accuracy: 0.577200\n",
      "Epoch 44, CIFAR-10 Batch 3:  Loss:     0.4605 Validation Accuracy: 0.605000\n",
      "Epoch 44, CIFAR-10 Batch 4:  Loss:     0.5279 Validation Accuracy: 0.611600\n",
      "Epoch 44, CIFAR-10 Batch 5:  Loss:     0.4363 Validation Accuracy: 0.614200\n",
      "Epoch 45, CIFAR-10 Batch 1:  Loss:     0.5582 Validation Accuracy: 0.598400\n",
      "Epoch 45, CIFAR-10 Batch 2:  Loss:     0.4895 Validation Accuracy: 0.584600\n",
      "Epoch 45, CIFAR-10 Batch 3:  Loss:     0.4699 Validation Accuracy: 0.601600\n",
      "Epoch 45, CIFAR-10 Batch 4:  Loss:     0.5083 Validation Accuracy: 0.619400\n",
      "Epoch 45, CIFAR-10 Batch 5:  Loss:     0.4764 Validation Accuracy: 0.595800\n",
      "Epoch 46, CIFAR-10 Batch 1:  Loss:     0.5516 Validation Accuracy: 0.615000\n",
      "Epoch 46, CIFAR-10 Batch 2:  Loss:     0.4832 Validation Accuracy: 0.590200\n",
      "Epoch 46, CIFAR-10 Batch 3:  Loss:     0.4263 Validation Accuracy: 0.610600\n",
      "Epoch 46, CIFAR-10 Batch 4:  Loss:     0.4548 Validation Accuracy: 0.617400\n",
      "Epoch 46, CIFAR-10 Batch 5:  Loss:     0.4526 Validation Accuracy: 0.607800\n",
      "Epoch 47, CIFAR-10 Batch 1:  Loss:     0.5526 Validation Accuracy: 0.616200\n",
      "Epoch 47, CIFAR-10 Batch 2:  Loss:     0.5232 Validation Accuracy: 0.590000\n",
      "Epoch 47, CIFAR-10 Batch 3:  Loss:     0.4377 Validation Accuracy: 0.604200\n",
      "Epoch 47, CIFAR-10 Batch 4:  Loss:     0.4514 Validation Accuracy: 0.621200\n",
      "Epoch 47, CIFAR-10 Batch 5:  Loss:     0.4148 Validation Accuracy: 0.605400\n",
      "Epoch 48, CIFAR-10 Batch 1:  Loss:     0.5486 Validation Accuracy: 0.615800\n",
      "Epoch 48, CIFAR-10 Batch 2:  Loss:     0.4626 Validation Accuracy: 0.590800\n",
      "Epoch 48, CIFAR-10 Batch 3:  Loss:     0.4622 Validation Accuracy: 0.604600\n",
      "Epoch 48, CIFAR-10 Batch 4:  Loss:     0.4547 Validation Accuracy: 0.606400\n",
      "Epoch 48, CIFAR-10 Batch 5:  Loss:     0.4670 Validation Accuracy: 0.605200\n",
      "Epoch 49, CIFAR-10 Batch 1:  Loss:     0.5403 Validation Accuracy: 0.612200\n",
      "Epoch 49, CIFAR-10 Batch 2:  Loss:     0.4715 Validation Accuracy: 0.588400\n",
      "Epoch 49, CIFAR-10 Batch 3:  Loss:     0.4568 Validation Accuracy: 0.606000\n",
      "Epoch 49, CIFAR-10 Batch 4:  Loss:     0.5189 Validation Accuracy: 0.612000\n",
      "Epoch 49, CIFAR-10 Batch 5:  Loss:     0.4438 Validation Accuracy: 0.614200\n",
      "Epoch 50, CIFAR-10 Batch 1:  Loss:     0.5418 Validation Accuracy: 0.612800\n",
      "Epoch 50, CIFAR-10 Batch 2:  Loss:     0.4517 Validation Accuracy: 0.591000\n",
      "Epoch 50, CIFAR-10 Batch 3:  Loss:     0.4447 Validation Accuracy: 0.594600\n",
      "Epoch 50, CIFAR-10 Batch 4:  Loss:     0.4701 Validation Accuracy: 0.611600\n",
      "Epoch 50, CIFAR-10 Batch 5:  Loss:     0.4609 Validation Accuracy: 0.599600\n"
     ]
    }
   ],
   "source": [
    "\"\"\"\n",
    "DON'T MODIFY ANYTHING IN THIS CELL\n",
    "\"\"\"\n",
    "save_model_path = './image_classification'\n",
    "\n",
    "print('Training...')\n",
    "with tf.Session() as sess:\n",
    "    # Initializing the variables\n",
    "    sess.run(tf.global_variables_initializer())\n",
    "    \n",
    "    # Training cycle\n",
    "    for epoch in range(epochs):\n",
    "        # Loop over all batches\n",
    "        n_batches = 5\n",
    "        for batch_i in range(1, n_batches + 1):\n",
    "            for batch_features, batch_labels in helper.load_preprocess_training_batch(batch_i, batch_size):\n",
    "                train_neural_network(sess, optimizer, keep_probability, batch_features, batch_labels)\n",
    "            print('Epoch {:>2}, CIFAR-10 Batch {}:  '.format(epoch + 1, batch_i), end='')\n",
    "            print_stats(sess, batch_features, batch_labels, cost, accuracy)\n",
    "            \n",
    "    # Save Model\n",
    "    saver = tf.train.Saver()\n",
    "    save_path = saver.save(sess, save_model_path)"
   ]
  },
  {
   "cell_type": "markdown",
   "metadata": {
    "deletable": true,
    "editable": true
   },
   "source": [
    "# Checkpoint\n",
    "The model has been saved to disk.\n",
    "## Test Model\n",
    "Test your model against the test dataset.  This will be your final accuracy. You should have an accuracy greater than 50%. If you don't, keep tweaking the model architecture and parameters."
   ]
  },
  {
   "cell_type": "code",
   "execution_count": 96,
   "metadata": {
    "collapsed": false,
    "deletable": true,
    "editable": true
   },
   "outputs": [
    {
     "name": "stdout",
     "output_type": "stream",
     "text": [
      "Testing Accuracy: 0.598496835443038\n",
      "\n"
     ]
    },
    {
     "data": {
      "image/png": "[encoded data removed]",
      "text/plain": [
       "<matplotlib.figure.Figure at 0x7f44e5b6ec18>"
      ]
     },
     "metadata": {
      "image/png": {
       "height": 319,
       "width": 355
      }
     },
     "output_type": "display_data"
    }
   ],
   "source": [
    "\"\"\"\n",
    "DON'T MODIFY ANYTHING IN THIS CELL\n",
    "\"\"\"\n",
    "%matplotlib inline\n",
    "%config InlineBackend.figure_format = 'retina'\n",
    "\n",
    "import tensorflow as tf\n",
    "import pickle\n",
    "import helper\n",
    "import random\n",
    "\n",
    "# Set batch size if not already set\n",
    "try:\n",
    "    if batch_size:\n",
    "        pass\n",
    "except NameError:\n",
    "    batch_size = 64\n",
    "\n",
    "save_model_path = './image_classification'\n",
    "n_samples = 4\n",
    "top_n_predictions = 3\n",
    "\n",
    "def test_model():\n",
    "    \"\"\"\n",
    "    Test the saved model against the test dataset\n",
    "    \"\"\"\n",
    "\n",
    "    test_features, test_labels = pickle.load(open('preprocess_training.p', mode='rb'))\n",
    "    loaded_graph = tf.Graph()\n",
    "\n",
    "    with tf.Session(graph=loaded_graph) as sess:\n",
    "        # Load model\n",
    "        loader = tf.train.import_meta_graph(save_model_path + '.meta')\n",
    "        loader.restore(sess, save_model_path)\n",
    "\n",
    "        # Get Tensors from loaded model\n",
    "        loaded_x = loaded_graph.get_tensor_by_name('x:0')\n",
    "        loaded_y = loaded_graph.get_tensor_by_name('y:0')\n",
    "        loaded_keep_prob = loaded_graph.get_tensor_by_name('keep_prob:0')\n",
    "        loaded_logits = loaded_graph.get_tensor_by_name('logits:0')\n",
    "        loaded_acc = loaded_graph.get_tensor_by_name('accuracy:0')\n",
    "        \n",
    "        # Get accuracy in batches for memory limitations\n",
    "        test_batch_acc_total = 0\n",
    "        test_batch_count = 0\n",
    "        \n",
    "        for train_feature_batch, train_label_batch in helper.batch_features_labels(test_features, test_labels, batch_size):\n",
    "            test_batch_acc_total += sess.run(\n",
    "                loaded_acc,\n",
    "                feed_dict={loaded_x: train_feature_batch, loaded_y: train_label_batch, loaded_keep_prob: 1.0})\n",
    "            test_batch_count += 1\n",
    "\n",
    "        print('Testing Accuracy: {}\\n'.format(test_batch_acc_total/test_batch_count))\n",
    "\n",
    "        # Print Random Samples\n",
    "        random_test_features, random_test_labels = tuple(zip(*random.sample(list(zip(test_features, test_labels)), n_samples)))\n",
    "        random_test_predictions = sess.run(\n",
    "            tf.nn.top_k(tf.nn.softmax(loaded_logits), top_n_predictions),\n",
    "            feed_dict={loaded_x: random_test_features, loaded_y: random_test_labels, loaded_keep_prob: 1.0})\n",
    "        helper.display_image_predictions(random_test_features, random_test_labels, random_test_predictions)\n",
    "\n",
    "\n",
    "test_model()"
   ]
  },
  {
   "cell_type": "markdown",
   "metadata": {
    "deletable": true,
    "editable": true
   },
   "source": [
    "## Why 50-70% Accuracy?\n",
    "You might be wondering why you can't get an accuracy any higher. First things first, 50% isn't bad for a simple CNN.  Pure guessing would get you 10% accuracy. However, you might notice people are getting scores [well above 70%](http://rodrigob.github.io/are_we_there_yet/build/classification_datasets_results.html#43494641522d3130).  That's because we haven't taught you all there is to know about neural networks. We still need to cover a few more techniques.\n",
    "## Submitting This Project\n",
    "When submitting this project, make sure to run all the cells before saving the notebook.  Save the notebook file as \"dlnd_image_classification.ipynb\" and save it as a HTML file under \"File\" -> \"Download as\".  Include the \"helper.py\" and \"problem_unittests.py\" files in your submission."
   ]
  },
  {
   "cell_type": "code",
   "execution_count": 93,
   "metadata": {
    "collapsed": true
   },
   "outputs": [],
   "source": [
    "def plot_learning_curves(training_losses, training_accuracies, valid_losses, valid_accuracies):\n",
    "    import seaborn as sbs;\n",
    "    sbs.set()\n",
    "    epochs = np.arange(len(training_losses))\n",
    "    plt.subplot(2, 1, 1)\n",
    "    plt.plot(epochs, training_losses, color='blue', linewidth=2.0, label='training')\n",
    "    plt.plot(epochs, valid_losses, color='green', linewidth=2.0, label='validation')\n",
    "\n",
    "    # plt.xlabel('epoch')\n",
    "    plt.ylabel('loss')\n",
    "    plt.legend()\n",
    "\n",
    "    plt.subplot(2, 1, 2)\n",
    "    plt.plot(epochs, training_accuracies, color='blue', linewidth=2.0, label='training')\n",
    "    plt.plot(epochs, valid_accuracies, color='green', linewidth=2.0, label='validation')\n",
    "\n",
    "    plt.xlabel('epoch')\n",
    "    plt.ylabel('accuracy')\n",
    "    plt.legend()\n",
    "\n",
    "    plt.savefig('learning_curves.jpg')\n",
    "    plt.show()"
   ]
  },
  {
   "cell_type": "code",
   "execution_count": 98,
   "metadata": {
    "collapsed": true
   },
   "outputs": [],
   "source": [
    "class DataSet:\n",
    "    def __init__(self, X, y):\n",
    "        self.X = X\n",
    "        self.y = y\n",
    "\n",
    "        self.pointer = 0\n",
    "        self.dataset_length = len(y)\n",
    "\n",
    "    def next_batch(self, size):\n",
    "        next_indices = np.arange(self.pointer, self.pointer + size) % self.dataset_length\n",
    "        self.pointer += size\n",
    "        self.pointer = self.pointer % self.dataset_length\n",
    "\n",
    "        return self.X[next_indices], self.y[next_indices]\n",
    "\n",
    "    def length(self):\n",
    "        return self.dataset_length\n"
   ]
  },
  {
   "cell_type": "code",
   "execution_count": null,
   "metadata": {
    "collapsed": true
   },
   "outputs": [],
   "source": [
    "def conv_net(x_tensor, keep_prob):    \n",
    "    \"\"\"\n",
    "    Create a convolutional neural network model\n",
    "    : x: Placeholder tensor that holds image data.\n",
    "    : keep_prob: Placeholder tensor that hold dropout keep probability.\n",
    "    : return: Tensor that represents logits\n",
    "    \"\"\"\n",
    "    # TODO: Apply 1, 2, or 3 Convolution and Max Pool layers\n",
    "    conv_ksize = [4, 4]\n",
    "    conv_strides = [1, 1]\n",
    "    pool_ksize = [2, 2] \n",
    "    pool_strides = [2, 2]\n",
    "    \n",
    "    conv_num_outputs_1 = 16\n",
    "    conv_num_outputs_2 = 32\n",
    "    conv_num_outputs_3 = 64\n",
    "    num_outputs = 10\n",
    "        \n",
    "    #Convolution Layer 1\n",
    "    shape = (conv_ksize[0], conv_ksize[1], x_tensor.get_shape().as_list()[-1], conv_num_outputs1)\n",
    "    conv_weights1 = tf.Variable(tf.truncated_normal(shape = shape, mean = 0.0, stddev = 0.1))\n",
    "    conv_bias1 = tf.Variable(tf.zeros(conv_num_outputs1))\n",
    "    layer1 = tf.nn.conv2d(x_tensor, conv_weights1, \n",
    "                        strides=[1, conv_strides[0], conv_strides[1], 1], \n",
    "                        padding='SAME') \n",
    "    layer1 = tf.nn.bias_add(layer1, conv_bias1)\n",
    "    layer1 = tf.nn.relu(layer1)\n",
    "    layer1 = tf.nn.max_pool(layer1, \n",
    "                           ksize=[1, pool_ksize[0], pool_ksize[1], 1], \n",
    "                           strides=[1,pool_strides[0], pool_strides[1], 1], \n",
    "                           padding='SAME')\n",
    "    \n",
    "    #Convolution Layer 2\n",
    "    shape = (conv_ksize[0], conv_ksize[1], layer1.get_shape().as_list()[-1], conv_num_outputs2)\n",
    "    conv_weights2 = tf.Variable(tf.truncated_normal(shape = shape, mean = 0.0, stddev = 0.1))\n",
    "    conv_bias2 = tf.Variable(tf.zeros(conv_num_outputs2))\n",
    "    layer2 = tf.nn.conv2d(x_tensor, conv_weights2, \n",
    "                        strides=[1, conv_strides[0], conv_strides[1], 1], \n",
    "                        padding='SAME') \n",
    "    layer2 = tf.nn.bias_add(layer2, conv_bias2)\n",
    "    layer2 = tf.nn.relu(layer2)\n",
    "    layer2 = tf.nn.max_pool(layer2, \n",
    "                           ksize=[1, pool_ksize[0], pool_ksize[1], 1], \n",
    "                           strides=[1,pool_strides[0], pool_strides[1], 1], \n",
    "                           padding='SAME')\n",
    "    \n",
    "    #Convolution Layer 3\n",
    "    shape = (conv_ksize[0], conv_ksize[1], layer2.get_shape().as_list()[-1], conv_num_outputs3)\n",
    "    conv_weights3 = tf.Variable(tf.truncated_normal(shape = shape, mean = 0.0, stddev = 0.1))\n",
    "    conv_bias3 = tf.Variable(tf.zeros(conv_num_outputs3))\n",
    "    layer3 = tf.nn.conv2d(x_tensor, conv_weights3, \n",
    "                        strides=[1, conv_strides[0], conv_strides[1], 1], \n",
    "                        padding='SAME') \n",
    "    layer3 = tf.nn.bias_add(layer3, conv_bias3)\n",
    "    layer3 = tf.nn.relu(layer3)\n",
    "    layer3 = tf.nn.max_pool(layer3, \n",
    "                           ksize=[1, pool_ksize[0], pool_ksize[1], 1], \n",
    "                           strides=[1,pool_strides[0], pool_strides[1], 1], \n",
    "                           padding='SAME')\n",
    "    \n",
    "    \n",
    "\n",
    "    # TODO: Apply a Flatten Layer\n",
    "    flatten_layer = tf.contrib.layers.flatten(layer3)\n",
    "\n",
    "    # TODO: Apply 1, 2, or 3 Fully Connected Layers\n",
    "    shape = (flatten_layer.get_shape().as_list()[-1], num_outputs)\n",
    "    fc_weights = tf.Variable(tf.truncated_normal(shape = shape, mean = 0.0, stddev = 0.1))\n",
    "    fc_bias = tf.Variable(tf.zeros(num_outputs))\n",
    "    fc_layer = tf.matmul(flatten_layer, fc_weights)\n",
    "    fc_layer = tf.nn.bias_add(fc_layer, fc_bias) \n",
    "    fc_layer = tf.nn.relu(fc_layer)\n",
    "    fc_layer = tf.nn.dropout(fc_layer, keep_prob)\n",
    "    \n",
    "    \n",
    "    # TODO: Apply an Output Layer\n",
    "    shape = (fc_layer.get_shape().as_list()[-1], num_outputs)\n",
    "    output_weights = tf.Variable(tf.truncated_normal(shape = shape, mean = 0.0, stddev = 0.1))\n",
    "    output_bias = tf.Variable(tf.zeros(num_outputs))\n",
    "    output_layer = tf.matmul(fc_layer, output_weights)\n",
    "    output_layer = tf.nn.bias_add(output_weights, output_bias) \n",
    "    output_layer = output(output_layer, num_outputs)\n",
    "    \n",
    "    # TODO: return output\n",
    "    return output_layer, [conv_weights1, conv_weights2, conv_weights3, fc_weights, output_weights]\n",
    "\n"
   ]
  },
  {
   "cell_type": "markdown",
   "metadata": {},
   "source": [
    "### L2 - Regularization cost function"
   ]
  },
  {
   "cell_type": "code",
   "execution_count": 97,
   "metadata": {
    "collapsed": true
   },
   "outputs": [],
   "source": [
    "def regularization_cost(weights, regularization):\n",
    "    reg_cost = 0.0\n",
    "    for weight in weights:\n",
    "        reg_cost += regularization * tf.nn.l2_loss(weight)\n",
    "    return reg_cost"
   ]
  },
  {
   "cell_type": "markdown",
   "metadata": {},
   "source": [
    "### Features and Labels\n",
    "\n",
    "Train LeNet to classify Traffic sign data. x is a placeholder for a batch of input images. y is a placeholder for a batch of output labels."
   ]
  },
  {
   "cell_type": "code",
   "execution_count": null,
   "metadata": {
    "collapsed": true
   },
   "outputs": [],
   "source": [
    "NUM_CLASSES = 10\n",
    "\n",
    "# placeholders for input images, labels and dropout percentage\n",
    "x = tf.placeholder(\"float\", [None, 32, 32, 3])\n",
    "tf.add_to_collection(\"x\", x)  # Remember this Op.\n",
    "\n",
    "y = tf.placeholder(\"float\", [None, NUM_CLASSES])\n",
    "tf.add_to_collection(\"y\", y) \n",
    "\n",
    "keep_prob = tf.placeholder(tf.float32)\n",
    "tf.add_to_collection(\"keep_prob\", keep_prob)"
   ]
  },
  {
   "cell_type": "markdown",
   "metadata": {},
   "source": [
    "### Training Pipeline\n",
    "\n",
    "Create a training pipeline that uses the model to classify traffic sign data."
   ]
  },
  {
   "cell_type": "code",
   "execution_count": null,
   "metadata": {
    "collapsed": true
   },
   "outputs": [],
   "source": [
    "LEARNING_RATE = 1e-3\n",
    "REGULARIZATION_PARAM = 1e-6\n",
    "\n",
    "logits, weights = conv_net(x_tensor, keep_prob)\n",
    "tf.add_to_collection(\"logits\", logits)\n",
    "\n",
    "cross_entropy = tf.nn.softmax_cross_entropy_with_logits(logits, y)\n",
    "loss_operation = tf.reduce_mean(cross_entropy) + regularization_cost(weights, REGULARIZATION_PARAM)\n",
    "tf.add_to_collection('loss_operation', loss_operation)\n",
    "\n",
    "optimizer = tf.train.AdamOptimizer(learning_rate = LEARNING_RATE)\n",
    "training_operation = optimizer.minimize(loss_operation)"
   ]
  },
  {
   "cell_type": "markdown",
   "metadata": {},
   "source": [
    "### Model Evaluation"
   ]
  },
  {
   "cell_type": "code",
   "execution_count": null,
   "metadata": {
    "collapsed": true
   },
   "outputs": [],
   "source": [
    "correct_prediction = tf.equal(tf.argmax(logits, 1), tf.argmax(y, 1))\n",
    "accuracy_operation = tf.reduce_mean(tf.cast(correct_prediction, tf.float32))\n",
    "tf.add_to_collection('accuracy_operation', accuracy_operation)\n",
    "\n",
    "saver = tf.train.Saver()\n",
    "\n",
    "\n",
    "def evaluate(dataset):\n",
    "    steps_per_epoch = dataset.length() // BATCH_SIZE\n",
    "    num_examples = steps_per_epoch * BATCH_SIZE\n",
    "    total_accuracy, total_loss = 0, 0\n",
    "    for step in range(steps_per_epoch):\n",
    "        batch_x, batch_y = dataset.next_batch(BATCH_SIZE)\n",
    "        loss, accuracy = sess.run([loss_operation, accuracy_operation], \n",
    "                             feed_dict={x: batch_x, y: batch_y, keep_prob: 1.0})\n",
    "        total_accuracy += (accuracy * len(batch_x))\n",
    "        total_loss += (loss * len(batch_x))\n",
    "    return total_loss / num_examples, total_accuracy / num_examples"
   ]
  },
  {
   "cell_type": "code",
   "execution_count": null,
   "metadata": {
    "collapsed": true
   },
   "outputs": [],
   "source": [
    "valid_dataset = DataSet(valid_features,  valid_labels)"
   ]
  },
  {
   "cell_type": "code",
   "execution_count": null,
   "metadata": {
    "collapsed": true
   },
   "outputs": [],
   "source": [
    "EPOCHS = 100\n",
    "BATCH_SIZE = 128\n",
    "best_valid_accuracy = 1e-10\n",
    "\n",
    "test_features, test_labels\n",
    "train_feature_batch, train_label_batch\n",
    "feature_batch, label_batch\n",
    "valid_features,  valid_labels\n",
    "                                                 \n",
    "with tf.Session() as sess:\n",
    "    sess.run(tf.global_variables_initializer())\n",
    "    steps_per_epoch = len(train_features) // BATCH_SIZE\n",
    "    num_examples = steps_per_epoch * BATCH_SIZE\n",
    "    \n",
    "    training_accuracies = []\n",
    "    valid_accuracies = []\n",
    "\n",
    "    training_losses = []\n",
    "    valid_losses = []\n",
    "    \n",
    "    for epoch in range(EPOCHS):\n",
    "        \n",
    "        for step in range(steps_per_epoch):\n",
    "            batch_x, batch_y = training_dataset.next_batch(BATCH_SIZE)\n",
    "            loss, accuracy = sess.run([training_operation, accuracy_operation],\n",
    "                                   feed_dict={x: batch_x, y: batch_y, keep_prob: 0.5})        \n",
    "        \n",
    "        # training loss and accuracy after an epoch\n",
    "        train_loss, train_acc = sess.run([loss_operation, accuracy_operation], \n",
    "                                   feed_dict={x: batch_x, y: batch_y, keep_prob: 1.0})        \n",
    "        training_losses.append(train_loss)\n",
    "        training_accuracies.append(train_acc)\n",
    "\n",
    "        \n",
    "        valid_loss, valid_acc = evaluate(valid_dataset)\n",
    "        valid_losses.append(valid_loss)\n",
    "        valid_accuracies.append(valid_acc)\n",
    "        \n",
    "        \n",
    "        if valid_acc > best_valid_accuracy:                \n",
    "                saver.save(sess, MODEL_NAME, global_step=step)\n",
    "                best_valid_accuracy = valid_acc\n",
    "        \n",
    "        if epoch % 20 == 0:\n",
    "            print('Epoch:{:d} train loss:{:.4f} valid loss:{:.4f} train accu:{:.4f} valid accu:{:.4f}'.format(\n",
    "                    epoch, train_loss,  valid_loss,  train_acc, valid_acc))      \n",
    "    \n",
    "    print('Trained model saved to the disk.')\n",
    "    plot_learning_curves(training_losses, training_accuracies, valid_losses, valid_accuracies )"
   ]
  }
 ],
 "metadata": {
  "kernelspec": {
   "display_name": "Python 3",
   "language": "python",
   "name": "python3"
  },
  "language_info": {
   "codemirror_mode": {
    "name": "ipython",
    "version": 3
   },
   "file_extension": ".py",
   "mimetype": "text/x-python",
   "name": "python",
   "nbconvert_exporter": "python",
   "pygments_lexer": "ipython3",
   "version": "3.5.3"
  }
 },
 "nbformat": 4,
 "nbformat_minor": 0
}
